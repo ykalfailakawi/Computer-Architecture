{
  "nbformat": 4,
  "nbformat_minor": 0,
  "metadata": {
    "colab": {
      "provenance": []
    },
    "kernelspec": {
      "name": "python3",
      "display_name": "Python 3"
    },
    "language_info": {
      "name": "python"
    }
  },
  "cells": [
    {
      "cell_type": "code",
      "source": [
        "import random\n",
        "\n",
        "def generate_trace_file(num_accesses, filename):\n",
        "    with open(filename, 'w') as f:\n",
        "        for _ in range(num_accesses):\n",
        "            operation = random.choice(['R', 'W'])  # Randomly choose R or W\n",
        "            address = hex(random.randint(0, 0xFFFFFFFF))  # Generate a random 32-bit address\n",
        "            f.write(f\"{operation} {address}\\n\")\n",
        "        f.write(\"#eof\\n\")  # End of file marker\n",
        "\n",
        "# Generate a trace file with a specified number of accesses\n",
        "num_accesses = 1000  # Change this number as needed\n",
        "filename = \"memory_trace.txt\"\n",
        "generate_trace_file(num_accesses, filename)\n",
        "print(f\"Trace file '{filename}' generated with {num_accesses} accesses.\")"
      ],
      "metadata": {
        "colab": {
          "base_uri": "https://localhost:8080/"
        },
        "id": "jFd087XjeqPn",
        "outputId": "84507623-8d66-41de-ca84-3db4f25d628e"
      },
      "execution_count": 29,
      "outputs": [
        {
          "output_type": "stream",
          "name": "stdout",
          "text": [
            "Trace file 'memory_trace.txt' generated with 1000 accesses.\n"
          ]
        }
      ]
    },
    {
      "cell_type": "code",
      "source": [
        "import os\n",
        "from collections import deque\n",
        "\n",
        "class CacheSimulator:\n",
        "    def __init__(self, cache_size, block_size, associativity, prefetch_size, trace_file):\n",
        "        self.cache_size = cache_size\n",
        "        self.block_size = block_size\n",
        "        self.associativity_str = associativity\n",
        "        self.prefetch_size = prefetch_size\n",
        "        self.trace_file = trace_file\n",
        "\n",
        "        self.num_blocks = self.cache_size // self.block_size\n",
        "\n",
        "        if self.associativity_str == 'direct':\n",
        "            self.num_ways = 1\n",
        "            self.num_sets = self.num_blocks\n",
        "        elif self.associativity_str == 'assoc':\n",
        "            self.num_ways = self.num_blocks\n",
        "            self.num_sets = 1\n",
        "        elif self.associativity_str.startswith('assoc:'):\n",
        "            n = int(self.associativity_str.split(':')[1])\n",
        "            self.num_ways = n\n",
        "            self.num_sets = self.num_blocks // n\n",
        "        else:\n",
        "            raise ValueError(\"Invalid associativity parameter.\")\n",
        "\n",
        "        self.cache = {i: deque() for i in range(self.num_sets)}\n",
        "        self.hits = 0\n",
        "        self.misses = 0\n",
        "\n",
        "    def get_set_index(self, block_address):\n",
        "        return block_address % self.num_sets if self.num_sets > 1 else 0\n",
        "\n",
        "    def access_block(self, block_address):\n",
        "        set_index = self.get_set_index(block_address)\n",
        "        cache_set = self.cache[set_index]\n",
        "\n",
        "        if block_address in cache_set:\n",
        "            self.hits += 1\n",
        "        else:\n",
        "            self.misses += 1\n",
        "            cache_set.append(block_address)\n",
        "            if len(cache_set) > self.num_ways:\n",
        "                cache_set.popleft()\n",
        "\n",
        "    def prefetch_blocks(self, missed_block_address):\n",
        "        for i in range(1, self.prefetch_size + 1):\n",
        "            next_block = missed_block_address + i\n",
        "            set_index = self.get_set_index(next_block)\n",
        "            cache_set = self.cache[set_index]\n",
        "\n",
        "            if next_block not in cache_set:\n",
        "                self.misses += 1\n",
        "                cache_set.append(next_block)\n",
        "                if len(cache_set) > self.num_ways:\n",
        "                    cache_set.popleft()\n",
        "\n",
        "    def access_memory(self, operation, address):\n",
        "        block_address = address // self.block_size\n",
        "        self.access_block(block_address)\n",
        "\n",
        "        if operation == 'W':\n",
        "            if block_address not in self.cache[self.get_set_index(block_address)]:\n",
        "                self.access_block(block_address)\n",
        "\n",
        "            self.access_block(block_address)\n",
        "\n",
        "            if self.prefetch_size > 0:\n",
        "                self.prefetch_blocks(block_address)\n",
        "\n",
        "    def run(self):\n",
        "        if not os.path.exists(self.trace_file):\n",
        "            print(f\"Error: Trace file '{self.trace_file}' does not exist.\")\n",
        "            return\n",
        "\n",
        "        with open(self.trace_file, 'r') as f:\n",
        "            for line in f:\n",
        "                line = line.strip()\n",
        "                if line == \"#eof\":\n",
        "                    break\n",
        "                parts = line.split()\n",
        "                if len(parts) != 2:\n",
        "                    continue  # Skip malformed lines\n",
        "                operation, address = parts\n",
        "                address = int(address, 16)  # Convert hex address to integer\n",
        "                self.access_memory(operation, address)\n",
        "\n",
        "        total_accesses = self.hits + self.misses\n",
        "        hit_rate = (self.hits / total_accesses) * 100 if total_accesses > 0 else 0\n",
        "\n",
        "        print(f\"Cache Hits: {self.hits}, Cache Misses: {self.misses}\")\n",
        "        print(f\"Hit Rate: {hit_rate:.2f}%\")\n",
        "\n",
        "# Example of how to run the cache simulator\n",
        "cache_size = 1024  # Cache size in bytes\n",
        "block_size = 64    # Block size in bytes\n",
        "associativity = 'assoc:4'  # 4-way set associative\n",
        "prefetch_size = 2  # Number of blocks to prefetch\n",
        "trace_file = \"memory_trace.txt\"  # Trace file generated earlier\n",
        "\n",
        "simulator = CacheSimulator(cache_size, block_size, associativity, prefetch_size, trace_file)\n",
        "simulator.run()"
      ],
      "metadata": {
        "colab": {
          "base_uri": "https://localhost:8080/"
        },
        "id": "WksaFAjofbug",
        "outputId": "d0d0e7a1-4a4f-412c-c11f-e4eeb7b0980a"
      },
      "execution_count": 33,
      "outputs": [
        {
          "output_type": "stream",
          "name": "stdout",
          "text": [
            "Cache Hits: 488, Cache Misses: 1976\n",
            "Hit Rate: 19.81%\n"
          ]
        }
      ]
    }
  ]
}